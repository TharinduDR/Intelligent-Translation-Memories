{
 "cells": [
  {
   "cell_type": "code",
   "execution_count": 6,
   "metadata": {
    "pycharm": {
     "is_executing": false
    }
   },
   "outputs": [],
   "source": [
    "import pandas as pd"
   ]
  },
  {
   "cell_type": "code",
   "execution_count": 7,
   "metadata": {
    "pycharm": {
     "is_executing": false
    }
   },
   "outputs": [
    {
     "data": {
      "text/html": [
       "<div>\n",
       "<style scoped>\n",
       "    .dataframe tbody tr th:only-of-type {\n",
       "        vertical-align: middle;\n",
       "    }\n",
       "\n",
       "    .dataframe tbody tr th {\n",
       "        vertical-align: top;\n",
       "    }\n",
       "\n",
       "    .dataframe thead th {\n",
       "        text-align: right;\n",
       "    }\n",
       "</style>\n",
       "<table border=\"1\" class=\"dataframe\">\n",
       "  <thead>\n",
       "    <tr style=\"text-align: right;\">\n",
       "      <th></th>\n",
       "      <th>source</th>\n",
       "      <th>target</th>\n",
       "      <th>infersent_sentences</th>\n",
       "      <th>sbert_sentences</th>\n",
       "      <th>universal_encoder_sentences</th>\n",
       "      <th>okapi_sentences</th>\n",
       "      <th>infersent_bleu</th>\n",
       "      <th>infersent_meteor</th>\n",
       "      <th>sbert_bleu</th>\n",
       "      <th>sbert_meteor</th>\n",
       "      <th>universal_encoder_bleu</th>\n",
       "      <th>universal_encoder_meteor</th>\n",
       "      <th>okapi_bleu</th>\n",
       "      <th>okapi_meteor</th>\n",
       "    </tr>\n",
       "  </thead>\n",
       "  <tbody>\n",
       "    <tr>\n",
       "      <th>0</th>\n",
       "      <td>Commission Implementing Regulation (EU) 2019/281</td>\n",
       "      <td>Reglamento de Ejecución (UE) 2019/281 de la Co...</td>\n",
       "      <td>Reglamento de Ejecución (UE) 2018/470 de la Co...</td>\n",
       "      <td>Reglamento de Ejecución (UE) 2018/274 de la Co...</td>\n",
       "      <td>Reglamento de Ejecución (UE) 2018/339 de la Co...</td>\n",
       "      <td>Reglamento de Ejecución (UE) 2018/274 de la Co...</td>\n",
       "      <td>0.790569</td>\n",
       "      <td>0.864796</td>\n",
       "      <td>0.790569</td>\n",
       "      <td>0.864796</td>\n",
       "      <td>0.790569</td>\n",
       "      <td>0.864796</td>\n",
       "      <td>0.790569</td>\n",
       "      <td>0.864796</td>\n",
       "    </tr>\n",
       "    <tr>\n",
       "      <th>1</th>\n",
       "      <td>of 12 February 2019</td>\n",
       "      <td>de 12 de febrero de 2019</td>\n",
       "      <td>de 14 de enero de 2019</td>\n",
       "      <td>de 12 de marzo de 2018</td>\n",
       "      <td>de 18 de febrero de 2019</td>\n",
       "      <td>1 de febrero de 2019</td>\n",
       "      <td>0.365148</td>\n",
       "      <td>0.526042</td>\n",
       "      <td>0.516398</td>\n",
       "      <td>0.625000</td>\n",
       "      <td>0.707107</td>\n",
       "      <td>0.806667</td>\n",
       "      <td>0.634186</td>\n",
       "      <td>0.672669</td>\n",
       "    </tr>\n",
       "    <tr>\n",
       "      <th>2</th>\n",
       "      <td>entering a name in the register of protected d...</td>\n",
       "      <td>por el que se inscribe una denominación en el ...</td>\n",
       "      <td>por el que se inscribe un nombre en el Registr...</td>\n",
       "      <td>por el que se inscribe un nombre en el Registr...</td>\n",
       "      <td>por el que se inscribe un nombre en el Registr...</td>\n",
       "      <td>por el que se inscribe un nombre en el Registr...</td>\n",
       "      <td>0.639554</td>\n",
       "      <td>0.642160</td>\n",
       "      <td>0.639554</td>\n",
       "      <td>0.642160</td>\n",
       "      <td>0.634003</td>\n",
       "      <td>0.676228</td>\n",
       "      <td>0.634003</td>\n",
       "      <td>0.676228</td>\n",
       "    </tr>\n",
       "    <tr>\n",
       "      <th>3</th>\n",
       "      <td>THE EUROPEAN COMMISSION,</td>\n",
       "      <td>LA COMISIÓN EUROPEA,</td>\n",
       "      <td>LA COMISIÓN EUROPEA,</td>\n",
       "      <td>LA COMISIÓN EUROPEA,</td>\n",
       "      <td>LA COMISIÓN EUROPEA,</td>\n",
       "      <td>LA COMISIÓN EUROPEA,</td>\n",
       "      <td>1.000000</td>\n",
       "      <td>0.981481</td>\n",
       "      <td>1.000000</td>\n",
       "      <td>0.981481</td>\n",
       "      <td>1.000000</td>\n",
       "      <td>0.981481</td>\n",
       "      <td>1.000000</td>\n",
       "      <td>0.981481</td>\n",
       "    </tr>\n",
       "    <tr>\n",
       "      <th>4</th>\n",
       "      <td>Having regard to the Treaty on the Functioning...</td>\n",
       "      <td>Visto el Tratado de Funcionamiento de la Unión...</td>\n",
       "      <td>Visto el Tratado de Funcionamiento de la Unión...</td>\n",
       "      <td>Visto el Tratado de Funcionamiento de la Unión...</td>\n",
       "      <td>Visto el Tratado de Funcionamiento de la Unión...</td>\n",
       "      <td>Visto el Tratado de Funcionamiento de la Unión...</td>\n",
       "      <td>1.000000</td>\n",
       "      <td>0.999314</td>\n",
       "      <td>1.000000</td>\n",
       "      <td>0.999314</td>\n",
       "      <td>1.000000</td>\n",
       "      <td>0.999314</td>\n",
       "      <td>1.000000</td>\n",
       "      <td>0.999314</td>\n",
       "    </tr>\n",
       "    <tr>\n",
       "      <th>5</th>\n",
       "      <td>Having regard to Regulation (EU) No 1151/2012 ...</td>\n",
       "      <td>Visto el Reglamento (UE) n.o 1151/2012 del Par...</td>\n",
       "      <td>Visto el Reglamento (UE) n.o 1151/2012 del Par...</td>\n",
       "      <td>Visto el Reglamento (UE) n.o 1151/2012 del Par...</td>\n",
       "      <td>Visto el Reglamento (UE) n.o 1151/2012 del Par...</td>\n",
       "      <td>Visto el Reglamento (UE) n.o 1151/2012 del Par...</td>\n",
       "      <td>1.000000</td>\n",
       "      <td>0.999990</td>\n",
       "      <td>1.000000</td>\n",
       "      <td>0.999990</td>\n",
       "      <td>1.000000</td>\n",
       "      <td>0.999990</td>\n",
       "      <td>1.000000</td>\n",
       "      <td>0.999990</td>\n",
       "    </tr>\n",
       "    <tr>\n",
       "      <th>6</th>\n",
       "      <td>Whereas:</td>\n",
       "      <td>Considerando lo siguiente:</td>\n",
       "      <td>Considerando lo siguiente:</td>\n",
       "      <td>Considerando lo siguiente:</td>\n",
       "      <td>Considerando lo siguiente:</td>\n",
       "      <td>Considerando lo siguiente:</td>\n",
       "      <td>1.000000</td>\n",
       "      <td>0.981481</td>\n",
       "      <td>1.000000</td>\n",
       "      <td>0.981481</td>\n",
       "      <td>1.000000</td>\n",
       "      <td>0.981481</td>\n",
       "      <td>1.000000</td>\n",
       "      <td>0.981481</td>\n",
       "    </tr>\n",
       "    <tr>\n",
       "      <th>7</th>\n",
       "      <td>Pursuant to Article 50(2)(a) of Regulation (EU...</td>\n",
       "      <td>De conformidad con el artículo 50, apartado 2,...</td>\n",
       "      <td>De conformidad con el artículo 50, apartado 2,...</td>\n",
       "      <td>De conformidad con el artículo 50, apartado 2,...</td>\n",
       "      <td>De conformidad con el artículo 50, apartado 2,...</td>\n",
       "      <td>De conformidad con el artículo 50, apartado 2,...</td>\n",
       "      <td>0.658866</td>\n",
       "      <td>0.702297</td>\n",
       "      <td>0.658866</td>\n",
       "      <td>0.702297</td>\n",
       "      <td>0.658866</td>\n",
       "      <td>0.702297</td>\n",
       "      <td>0.642018</td>\n",
       "      <td>0.672222</td>\n",
       "    </tr>\n",
       "    <tr>\n",
       "      <th>8</th>\n",
       "      <td>As no statement of opposition under Article 51...</td>\n",
       "      <td>Al no haberse notificado a la Comisión ninguna...</td>\n",
       "      <td>Al no haberse notificado a la Comisión ninguna...</td>\n",
       "      <td>Al no haberse notificado a la Comisión ninguna...</td>\n",
       "      <td>Al no haberse notificado a la Comisión ninguna...</td>\n",
       "      <td>Al no haberse notificado a la Comisión ninguna...</td>\n",
       "      <td>0.586596</td>\n",
       "      <td>0.617759</td>\n",
       "      <td>0.584497</td>\n",
       "      <td>0.621783</td>\n",
       "      <td>0.584497</td>\n",
       "      <td>0.621783</td>\n",
       "      <td>0.584497</td>\n",
       "      <td>0.621783</td>\n",
       "    </tr>\n",
       "    <tr>\n",
       "      <th>9</th>\n",
       "      <td>HAS ADOPTED THIS REGULATION:</td>\n",
       "      <td>HA ADOPTADO EL PRESENTE REGLAMENTO:</td>\n",
       "      <td>HA ADOPTADO EL PRESENTE REGLAMENTO:</td>\n",
       "      <td>HA ADOPTADO EL PRESENTE REGLAMENTO:</td>\n",
       "      <td>HA ADOPTADO EL PRESENTE REGLAMENTO:</td>\n",
       "      <td>HA ADOPTADO EL PRESENTE REGLAMENTO:</td>\n",
       "      <td>1.000000</td>\n",
       "      <td>0.996000</td>\n",
       "      <td>1.000000</td>\n",
       "      <td>0.996000</td>\n",
       "      <td>1.000000</td>\n",
       "      <td>0.996000</td>\n",
       "      <td>1.000000</td>\n",
       "      <td>0.996000</td>\n",
       "    </tr>\n",
       "  </tbody>\n",
       "</table>\n",
       "</div>"
      ],
      "text/plain": [
       "                                              source  \\\n",
       "0   Commission Implementing Regulation (EU) 2019/281   \n",
       "1                                of 12 February 2019   \n",
       "2  entering a name in the register of protected d...   \n",
       "3                           THE EUROPEAN COMMISSION,   \n",
       "4  Having regard to the Treaty on the Functioning...   \n",
       "5  Having regard to Regulation (EU) No 1151/2012 ...   \n",
       "6                                           Whereas:   \n",
       "7  Pursuant to Article 50(2)(a) of Regulation (EU...   \n",
       "8  As no statement of opposition under Article 51...   \n",
       "9                       HAS ADOPTED THIS REGULATION:   \n",
       "\n",
       "                                              target  \\\n",
       "0  Reglamento de Ejecución (UE) 2019/281 de la Co...   \n",
       "1                           de 12 de febrero de 2019   \n",
       "2  por el que se inscribe una denominación en el ...   \n",
       "3                               LA COMISIÓN EUROPEA,   \n",
       "4  Visto el Tratado de Funcionamiento de la Unión...   \n",
       "5  Visto el Reglamento (UE) n.o 1151/2012 del Par...   \n",
       "6                         Considerando lo siguiente:   \n",
       "7  De conformidad con el artículo 50, apartado 2,...   \n",
       "8  Al no haberse notificado a la Comisión ninguna...   \n",
       "9                HA ADOPTADO EL PRESENTE REGLAMENTO:   \n",
       "\n",
       "                                 infersent_sentences  \\\n",
       "0  Reglamento de Ejecución (UE) 2018/470 de la Co...   \n",
       "1                             de 14 de enero de 2019   \n",
       "2  por el que se inscribe un nombre en el Registr...   \n",
       "3                               LA COMISIÓN EUROPEA,   \n",
       "4  Visto el Tratado de Funcionamiento de la Unión...   \n",
       "5  Visto el Reglamento (UE) n.o 1151/2012 del Par...   \n",
       "6                         Considerando lo siguiente:   \n",
       "7  De conformidad con el artículo 50, apartado 2,...   \n",
       "8  Al no haberse notificado a la Comisión ninguna...   \n",
       "9                HA ADOPTADO EL PRESENTE REGLAMENTO:   \n",
       "\n",
       "                                     sbert_sentences  \\\n",
       "0  Reglamento de Ejecución (UE) 2018/274 de la Co...   \n",
       "1                             de 12 de marzo de 2018   \n",
       "2  por el que se inscribe un nombre en el Registr...   \n",
       "3                               LA COMISIÓN EUROPEA,   \n",
       "4  Visto el Tratado de Funcionamiento de la Unión...   \n",
       "5  Visto el Reglamento (UE) n.o 1151/2012 del Par...   \n",
       "6                         Considerando lo siguiente:   \n",
       "7  De conformidad con el artículo 50, apartado 2,...   \n",
       "8  Al no haberse notificado a la Comisión ninguna...   \n",
       "9                HA ADOPTADO EL PRESENTE REGLAMENTO:   \n",
       "\n",
       "                         universal_encoder_sentences  \\\n",
       "0  Reglamento de Ejecución (UE) 2018/339 de la Co...   \n",
       "1                           de 18 de febrero de 2019   \n",
       "2  por el que se inscribe un nombre en el Registr...   \n",
       "3                               LA COMISIÓN EUROPEA,   \n",
       "4  Visto el Tratado de Funcionamiento de la Unión...   \n",
       "5  Visto el Reglamento (UE) n.o 1151/2012 del Par...   \n",
       "6                         Considerando lo siguiente:   \n",
       "7  De conformidad con el artículo 50, apartado 2,...   \n",
       "8  Al no haberse notificado a la Comisión ninguna...   \n",
       "9                HA ADOPTADO EL PRESENTE REGLAMENTO:   \n",
       "\n",
       "                                     okapi_sentences  infersent_bleu  \\\n",
       "0  Reglamento de Ejecución (UE) 2018/274 de la Co...        0.790569   \n",
       "1                               1 de febrero de 2019        0.365148   \n",
       "2  por el que se inscribe un nombre en el Registr...        0.639554   \n",
       "3                               LA COMISIÓN EUROPEA,        1.000000   \n",
       "4  Visto el Tratado de Funcionamiento de la Unión...        1.000000   \n",
       "5  Visto el Reglamento (UE) n.o 1151/2012 del Par...        1.000000   \n",
       "6                         Considerando lo siguiente:        1.000000   \n",
       "7  De conformidad con el artículo 50, apartado 2,...        0.658866   \n",
       "8  Al no haberse notificado a la Comisión ninguna...        0.586596   \n",
       "9                HA ADOPTADO EL PRESENTE REGLAMENTO:        1.000000   \n",
       "\n",
       "   infersent_meteor  sbert_bleu  sbert_meteor  universal_encoder_bleu  \\\n",
       "0          0.864796    0.790569      0.864796                0.790569   \n",
       "1          0.526042    0.516398      0.625000                0.707107   \n",
       "2          0.642160    0.639554      0.642160                0.634003   \n",
       "3          0.981481    1.000000      0.981481                1.000000   \n",
       "4          0.999314    1.000000      0.999314                1.000000   \n",
       "5          0.999990    1.000000      0.999990                1.000000   \n",
       "6          0.981481    1.000000      0.981481                1.000000   \n",
       "7          0.702297    0.658866      0.702297                0.658866   \n",
       "8          0.617759    0.584497      0.621783                0.584497   \n",
       "9          0.996000    1.000000      0.996000                1.000000   \n",
       "\n",
       "   universal_encoder_meteor  okapi_bleu  okapi_meteor  \n",
       "0                  0.864796    0.790569      0.864796  \n",
       "1                  0.806667    0.634186      0.672669  \n",
       "2                  0.676228    0.634003      0.676228  \n",
       "3                  0.981481    1.000000      0.981481  \n",
       "4                  0.999314    1.000000      0.999314  \n",
       "5                  0.999990    1.000000      0.999990  \n",
       "6                  0.981481    1.000000      0.981481  \n",
       "7                  0.702297    0.642018      0.672222  \n",
       "8                  0.621783    0.584497      0.621783  \n",
       "9                  0.996000    1.000000      0.996000  "
      ]
     },
     "execution_count": 7,
     "metadata": {},
     "output_type": "execute_result"
    }
   ],
   "source": [
    "full_result = pd.read_csv(\"result/ES-ES/full_results.tsv\", sep=\"\\t\")\n",
    "full_result[:10]"
   ]
  },
  {
   "cell_type": "code",
   "execution_count": 8,
   "metadata": {
    "pycharm": {
     "is_executing": false
    }
   },
   "outputs": [
    {
     "data": {
      "text/plain": [
       "25004"
      ]
     },
     "execution_count": 8,
     "metadata": {},
     "output_type": "execute_result"
    }
   ],
   "source": [
    "full_result.shape[0] "
   ]
  },
  {
   "cell_type": "markdown",
   "metadata": {},
   "source": [
    "###  Analysing Universal Encoder Results"
   ]
  },
  {
   "cell_type": "markdown",
   "metadata": {},
   "source": [
    "Removing the exact matches"
   ]
  },
  {
   "cell_type": "code",
   "execution_count": 9,
   "metadata": {},
   "outputs": [
    {
     "data": {
      "text/plain": [
       "18985"
      ]
     },
     "execution_count": 9,
     "metadata": {},
     "output_type": "execute_result"
    }
   ],
   "source": [
    "universal_encoder_sentences = full_result.loc[full_result['target'] != full_result['universal_encoder_sentences']]\n",
    "universal_encoder_sentences.shape[0] "
   ]
  },
  {
   "cell_type": "code",
   "execution_count": 10,
   "metadata": {},
   "outputs": [
    {
     "data": {
      "text/html": [
       "<div>\n",
       "<style scoped>\n",
       "    .dataframe tbody tr th:only-of-type {\n",
       "        vertical-align: middle;\n",
       "    }\n",
       "\n",
       "    .dataframe tbody tr th {\n",
       "        vertical-align: top;\n",
       "    }\n",
       "\n",
       "    .dataframe thead th {\n",
       "        text-align: right;\n",
       "    }\n",
       "</style>\n",
       "<table border=\"1\" class=\"dataframe\">\n",
       "  <thead>\n",
       "    <tr style=\"text-align: right;\">\n",
       "      <th></th>\n",
       "      <th>source</th>\n",
       "      <th>target</th>\n",
       "      <th>universal_encoder_sentences</th>\n",
       "      <th>okapi_sentences</th>\n",
       "      <th>universal_encoder_meteor</th>\n",
       "      <th>okapi_meteor</th>\n",
       "    </tr>\n",
       "  </thead>\n",
       "  <tbody>\n",
       "    <tr>\n",
       "      <th>0</th>\n",
       "      <td>Commission Implementing Regulation (EU) 2019/281</td>\n",
       "      <td>Reglamento de Ejecución (UE) 2019/281 de la Co...</td>\n",
       "      <td>Reglamento de Ejecución (UE) 2018/339 de la Co...</td>\n",
       "      <td>Reglamento de Ejecución (UE) 2018/274 de la Co...</td>\n",
       "      <td>0.864796</td>\n",
       "      <td>0.864796</td>\n",
       "    </tr>\n",
       "    <tr>\n",
       "      <th>1</th>\n",
       "      <td>of 12 February 2019</td>\n",
       "      <td>de 12 de febrero de 2019</td>\n",
       "      <td>de 18 de febrero de 2019</td>\n",
       "      <td>1 de febrero de 2019</td>\n",
       "      <td>0.806667</td>\n",
       "      <td>0.672669</td>\n",
       "    </tr>\n",
       "    <tr>\n",
       "      <th>2</th>\n",
       "      <td>entering a name in the register of protected d...</td>\n",
       "      <td>por el que se inscribe una denominación en el ...</td>\n",
       "      <td>por el que se inscribe un nombre en el Registr...</td>\n",
       "      <td>por el que se inscribe un nombre en el Registr...</td>\n",
       "      <td>0.676228</td>\n",
       "      <td>0.676228</td>\n",
       "    </tr>\n",
       "    <tr>\n",
       "      <th>5</th>\n",
       "      <td>Having regard to Regulation (EU) No 1151/2012 ...</td>\n",
       "      <td>Visto el Reglamento (UE) n.o 1151/2012 del Par...</td>\n",
       "      <td>Visto el Reglamento (UE) n.o 1151/2012 del Par...</td>\n",
       "      <td>Visto el Reglamento (UE) n.o 1151/2012 del Par...</td>\n",
       "      <td>0.999990</td>\n",
       "      <td>0.999990</td>\n",
       "    </tr>\n",
       "    <tr>\n",
       "      <th>7</th>\n",
       "      <td>Pursuant to Article 50(2)(a) of Regulation (EU...</td>\n",
       "      <td>De conformidad con el artículo 50, apartado 2,...</td>\n",
       "      <td>De conformidad con el artículo 50, apartado 2,...</td>\n",
       "      <td>De conformidad con el artículo 50, apartado 2,...</td>\n",
       "      <td>0.702297</td>\n",
       "      <td>0.672222</td>\n",
       "    </tr>\n",
       "    <tr>\n",
       "      <th>8</th>\n",
       "      <td>As no statement of opposition under Article 51...</td>\n",
       "      <td>Al no haberse notificado a la Comisión ninguna...</td>\n",
       "      <td>Al no haberse notificado a la Comisión ninguna...</td>\n",
       "      <td>Al no haberse notificado a la Comisión ninguna...</td>\n",
       "      <td>0.621783</td>\n",
       "      <td>0.621783</td>\n",
       "    </tr>\n",
       "    <tr>\n",
       "      <th>14</th>\n",
       "      <td>Done at Brussels, 12 February 2019.</td>\n",
       "      <td>Hecho en Bruselas, el 12 de febrero de 2019.</td>\n",
       "      <td>Hecho en Bruselas, el 25 de febrero de 2019.</td>\n",
       "      <td>Hecho en Bruselas, el 8 de febrero de 2019.</td>\n",
       "      <td>0.881944</td>\n",
       "      <td>0.881944</td>\n",
       "    </tr>\n",
       "    <tr>\n",
       "      <th>15</th>\n",
       "      <td>For the Commission,</td>\n",
       "      <td>Por la Comisión,</td>\n",
       "      <td>Por la Comisión</td>\n",
       "      <td>Por la Comisión,</td>\n",
       "      <td>0.625000</td>\n",
       "      <td>0.981481</td>\n",
       "    </tr>\n",
       "    <tr>\n",
       "      <th>19</th>\n",
       "      <td>OJ C 303, 29.8.2018, p. 12.</td>\n",
       "      <td>DO C 303 de 29.8.2018, p. 12.</td>\n",
       "      <td>(+-)-4-(2-clorofenil)-1,4-dihidro-2-[2-(1,3-di...</td>\n",
       "      <td>DO C 307 de 30.8.2018, p. 205.</td>\n",
       "      <td>0.073529</td>\n",
       "      <td>0.450893</td>\n",
       "    </tr>\n",
       "    <tr>\n",
       "      <th>21</th>\n",
       "      <td>The name specified in the first paragraph deno...</td>\n",
       "      <td>La denominación contemplada en el párrafo prim...</td>\n",
       "      <td>Frutas, hortalizas y cereales frescos o transf...</td>\n",
       "      <td>Frutas, hortalizas y cereales frescos o transf...</td>\n",
       "      <td>0.565146</td>\n",
       "      <td>0.565146</td>\n",
       "    </tr>\n",
       "  </tbody>\n",
       "</table>\n",
       "</div>"
      ],
      "text/plain": [
       "                                               source  \\\n",
       "0    Commission Implementing Regulation (EU) 2019/281   \n",
       "1                                 of 12 February 2019   \n",
       "2   entering a name in the register of protected d...   \n",
       "5   Having regard to Regulation (EU) No 1151/2012 ...   \n",
       "7   Pursuant to Article 50(2)(a) of Regulation (EU...   \n",
       "8   As no statement of opposition under Article 51...   \n",
       "14                Done at Brussels, 12 February 2019.   \n",
       "15                                For the Commission,   \n",
       "19                        OJ C 303, 29.8.2018, p. 12.   \n",
       "21  The name specified in the first paragraph deno...   \n",
       "\n",
       "                                               target  \\\n",
       "0   Reglamento de Ejecución (UE) 2019/281 de la Co...   \n",
       "1                            de 12 de febrero de 2019   \n",
       "2   por el que se inscribe una denominación en el ...   \n",
       "5   Visto el Reglamento (UE) n.o 1151/2012 del Par...   \n",
       "7   De conformidad con el artículo 50, apartado 2,...   \n",
       "8   Al no haberse notificado a la Comisión ninguna...   \n",
       "14       Hecho en Bruselas, el 12 de febrero de 2019.   \n",
       "15                                   Por la Comisión,   \n",
       "19                      DO C 303 de 29.8.2018, p. 12.   \n",
       "21  La denominación contemplada en el párrafo prim...   \n",
       "\n",
       "                          universal_encoder_sentences  \\\n",
       "0   Reglamento de Ejecución (UE) 2018/339 de la Co...   \n",
       "1                            de 18 de febrero de 2019   \n",
       "2   por el que se inscribe un nombre en el Registr...   \n",
       "5   Visto el Reglamento (UE) n.o 1151/2012 del Par...   \n",
       "7   De conformidad con el artículo 50, apartado 2,...   \n",
       "8   Al no haberse notificado a la Comisión ninguna...   \n",
       "14       Hecho en Bruselas, el 25 de febrero de 2019.   \n",
       "15                                    Por la Comisión   \n",
       "19  (+-)-4-(2-clorofenil)-1,4-dihidro-2-[2-(1,3-di...   \n",
       "21  Frutas, hortalizas y cereales frescos o transf...   \n",
       "\n",
       "                                      okapi_sentences  \\\n",
       "0   Reglamento de Ejecución (UE) 2018/274 de la Co...   \n",
       "1                                1 de febrero de 2019   \n",
       "2   por el que se inscribe un nombre en el Registr...   \n",
       "5   Visto el Reglamento (UE) n.o 1151/2012 del Par...   \n",
       "7   De conformidad con el artículo 50, apartado 2,...   \n",
       "8   Al no haberse notificado a la Comisión ninguna...   \n",
       "14        Hecho en Bruselas, el 8 de febrero de 2019.   \n",
       "15                                   Por la Comisión,   \n",
       "19                     DO C 307 de 30.8.2018, p. 205.   \n",
       "21  Frutas, hortalizas y cereales frescos o transf...   \n",
       "\n",
       "    universal_encoder_meteor  okapi_meteor  \n",
       "0                   0.864796      0.864796  \n",
       "1                   0.806667      0.672669  \n",
       "2                   0.676228      0.676228  \n",
       "5                   0.999990      0.999990  \n",
       "7                   0.702297      0.672222  \n",
       "8                   0.621783      0.621783  \n",
       "14                  0.881944      0.881944  \n",
       "15                  0.625000      0.981481  \n",
       "19                  0.073529      0.450893  \n",
       "21                  0.565146      0.565146  "
      ]
     },
     "execution_count": 10,
     "metadata": {},
     "output_type": "execute_result"
    }
   ],
   "source": [
    "universal_encoder_sentences = universal_encoder_sentences[['source','target', 'universal_encoder_sentences', 'okapi_sentences', 'universal_encoder_meteor', 'okapi_meteor']]\n",
    "universal_encoder_sentences[:10]"
   ]
  },
  {
   "cell_type": "markdown",
   "metadata": {},
   "source": [
    "Filtering out the same results from Okapi and Universal Sentence Encoder"
   ]
  },
  {
   "cell_type": "code",
   "execution_count": 11,
   "metadata": {},
   "outputs": [
    {
     "data": {
      "text/plain": [
       "14019"
      ]
     },
     "execution_count": 11,
     "metadata": {},
     "output_type": "execute_result"
    }
   ],
   "source": [
    "universal_encoder_sentences = universal_encoder_sentences.loc[universal_encoder_sentences['okapi_sentences'] != universal_encoder_sentences['universal_encoder_sentences']]\n",
    "universal_encoder_sentences.shape[0] "
   ]
  },
  {
   "cell_type": "code",
   "execution_count": 12,
   "metadata": {},
   "outputs": [
    {
     "data": {
      "text/html": [
       "<div>\n",
       "<style scoped>\n",
       "    .dataframe tbody tr th:only-of-type {\n",
       "        vertical-align: middle;\n",
       "    }\n",
       "\n",
       "    .dataframe tbody tr th {\n",
       "        vertical-align: top;\n",
       "    }\n",
       "\n",
       "    .dataframe thead th {\n",
       "        text-align: right;\n",
       "    }\n",
       "</style>\n",
       "<table border=\"1\" class=\"dataframe\">\n",
       "  <thead>\n",
       "    <tr style=\"text-align: right;\">\n",
       "      <th></th>\n",
       "      <th>source</th>\n",
       "      <th>target</th>\n",
       "      <th>universal_encoder_sentences</th>\n",
       "      <th>okapi_sentences</th>\n",
       "      <th>universal_encoder_meteor</th>\n",
       "      <th>okapi_meteor</th>\n",
       "    </tr>\n",
       "  </thead>\n",
       "  <tbody>\n",
       "    <tr>\n",
       "      <th>0</th>\n",
       "      <td>Commission Implementing Regulation (EU) 2019/281</td>\n",
       "      <td>Reglamento de Ejecución (UE) 2019/281 de la Co...</td>\n",
       "      <td>Reglamento de Ejecución (UE) 2018/339 de la Co...</td>\n",
       "      <td>Reglamento de Ejecución (UE) 2018/274 de la Co...</td>\n",
       "      <td>0.864796</td>\n",
       "      <td>0.864796</td>\n",
       "    </tr>\n",
       "    <tr>\n",
       "      <th>1</th>\n",
       "      <td>of 12 February 2019</td>\n",
       "      <td>de 12 de febrero de 2019</td>\n",
       "      <td>de 18 de febrero de 2019</td>\n",
       "      <td>1 de febrero de 2019</td>\n",
       "      <td>0.806667</td>\n",
       "      <td>0.672669</td>\n",
       "    </tr>\n",
       "    <tr>\n",
       "      <th>7</th>\n",
       "      <td>Pursuant to Article 50(2)(a) of Regulation (EU...</td>\n",
       "      <td>De conformidad con el artículo 50, apartado 2,...</td>\n",
       "      <td>De conformidad con el artículo 50, apartado 2,...</td>\n",
       "      <td>De conformidad con el artículo 50, apartado 2,...</td>\n",
       "      <td>0.702297</td>\n",
       "      <td>0.672222</td>\n",
       "    </tr>\n",
       "    <tr>\n",
       "      <th>14</th>\n",
       "      <td>Done at Brussels, 12 February 2019.</td>\n",
       "      <td>Hecho en Bruselas, el 12 de febrero de 2019.</td>\n",
       "      <td>Hecho en Bruselas, el 25 de febrero de 2019.</td>\n",
       "      <td>Hecho en Bruselas, el 8 de febrero de 2019.</td>\n",
       "      <td>0.881944</td>\n",
       "      <td>0.881944</td>\n",
       "    </tr>\n",
       "    <tr>\n",
       "      <th>15</th>\n",
       "      <td>For the Commission,</td>\n",
       "      <td>Por la Comisión,</td>\n",
       "      <td>Por la Comisión</td>\n",
       "      <td>Por la Comisión,</td>\n",
       "      <td>0.625000</td>\n",
       "      <td>0.981481</td>\n",
       "    </tr>\n",
       "    <tr>\n",
       "      <th>19</th>\n",
       "      <td>OJ C 303, 29.8.2018, p. 12.</td>\n",
       "      <td>DO C 303 de 29.8.2018, p. 12.</td>\n",
       "      <td>(+-)-4-(2-clorofenil)-1,4-dihidro-2-[2-(1,3-di...</td>\n",
       "      <td>DO C 307 de 30.8.2018, p. 205.</td>\n",
       "      <td>0.073529</td>\n",
       "      <td>0.450893</td>\n",
       "    </tr>\n",
       "    <tr>\n",
       "      <th>22</th>\n",
       "      <td>Council Implementing Regulation (EU) 2019/93</td>\n",
       "      <td>Reglamento de Ejecución (UE) 2019/93 del Consejo</td>\n",
       "      <td>Reglamento de Ejecución (UE) 2018/325 del Consejo</td>\n",
       "      <td>Reglamento de Ejecución (UE) 2018/324 del Consejo</td>\n",
       "      <td>0.841270</td>\n",
       "      <td>0.841270</td>\n",
       "    </tr>\n",
       "    <tr>\n",
       "      <th>23</th>\n",
       "      <td>of 21 January 2019</td>\n",
       "      <td>de 21 de enero de 2019</td>\n",
       "      <td>de 25 de febrero de 2019</td>\n",
       "      <td>de 25 de enero de 2019</td>\n",
       "      <td>0.526042</td>\n",
       "      <td>0.806667</td>\n",
       "    </tr>\n",
       "    <tr>\n",
       "      <th>36</th>\n",
       "      <td>This Regulation shall enter into force on the ...</td>\n",
       "      <td>El presente Reglamento entrará en vigor el día...</td>\n",
       "      <td>El presente Reglamento entrará en vigor el día...</td>\n",
       "      <td>El presente Reglamento entrará en vigor el día...</td>\n",
       "      <td>0.912929</td>\n",
       "      <td>0.999946</td>\n",
       "    </tr>\n",
       "    <tr>\n",
       "      <th>38</th>\n",
       "      <td>Done at Brussels, 21 January 2019.</td>\n",
       "      <td>Hecho en Bruselas, el 21 de enero de 2019.</td>\n",
       "      <td>Hecho en Bruselas, el 25 de febrero de 2019.</td>\n",
       "      <td>Hecho en Bruselas, el 29 de enero de 2019.</td>\n",
       "      <td>0.747166</td>\n",
       "      <td>0.881944</td>\n",
       "    </tr>\n",
       "  </tbody>\n",
       "</table>\n",
       "</div>"
      ],
      "text/plain": [
       "                                               source  \\\n",
       "0    Commission Implementing Regulation (EU) 2019/281   \n",
       "1                                 of 12 February 2019   \n",
       "7   Pursuant to Article 50(2)(a) of Regulation (EU...   \n",
       "14                Done at Brussels, 12 February 2019.   \n",
       "15                                For the Commission,   \n",
       "19                        OJ C 303, 29.8.2018, p. 12.   \n",
       "22       Council Implementing Regulation (EU) 2019/93   \n",
       "23                                 of 21 January 2019   \n",
       "36  This Regulation shall enter into force on the ...   \n",
       "38                 Done at Brussels, 21 January 2019.   \n",
       "\n",
       "                                               target  \\\n",
       "0   Reglamento de Ejecución (UE) 2019/281 de la Co...   \n",
       "1                            de 12 de febrero de 2019   \n",
       "7   De conformidad con el artículo 50, apartado 2,...   \n",
       "14       Hecho en Bruselas, el 12 de febrero de 2019.   \n",
       "15                                   Por la Comisión,   \n",
       "19                      DO C 303 de 29.8.2018, p. 12.   \n",
       "22   Reglamento de Ejecución (UE) 2019/93 del Consejo   \n",
       "23                             de 21 de enero de 2019   \n",
       "36  El presente Reglamento entrará en vigor el día...   \n",
       "38         Hecho en Bruselas, el 21 de enero de 2019.   \n",
       "\n",
       "                          universal_encoder_sentences  \\\n",
       "0   Reglamento de Ejecución (UE) 2018/339 de la Co...   \n",
       "1                            de 18 de febrero de 2019   \n",
       "7   De conformidad con el artículo 50, apartado 2,...   \n",
       "14       Hecho en Bruselas, el 25 de febrero de 2019.   \n",
       "15                                    Por la Comisión   \n",
       "19  (+-)-4-(2-clorofenil)-1,4-dihidro-2-[2-(1,3-di...   \n",
       "22  Reglamento de Ejecución (UE) 2018/325 del Consejo   \n",
       "23                           de 25 de febrero de 2019   \n",
       "36  El presente Reglamento entrará en vigor el día...   \n",
       "38       Hecho en Bruselas, el 25 de febrero de 2019.   \n",
       "\n",
       "                                      okapi_sentences  \\\n",
       "0   Reglamento de Ejecución (UE) 2018/274 de la Co...   \n",
       "1                                1 de febrero de 2019   \n",
       "7   De conformidad con el artículo 50, apartado 2,...   \n",
       "14        Hecho en Bruselas, el 8 de febrero de 2019.   \n",
       "15                                   Por la Comisión,   \n",
       "19                     DO C 307 de 30.8.2018, p. 205.   \n",
       "22  Reglamento de Ejecución (UE) 2018/324 del Consejo   \n",
       "23                             de 25 de enero de 2019   \n",
       "36  El presente Reglamento entrará en vigor el día...   \n",
       "38         Hecho en Bruselas, el 29 de enero de 2019.   \n",
       "\n",
       "    universal_encoder_meteor  okapi_meteor  \n",
       "0                   0.864796      0.864796  \n",
       "1                   0.806667      0.672669  \n",
       "7                   0.702297      0.672222  \n",
       "14                  0.881944      0.881944  \n",
       "15                  0.625000      0.981481  \n",
       "19                  0.073529      0.450893  \n",
       "22                  0.841270      0.841270  \n",
       "23                  0.526042      0.806667  \n",
       "36                  0.912929      0.999946  \n",
       "38                  0.747166      0.881944  "
      ]
     },
     "execution_count": 12,
     "metadata": {},
     "output_type": "execute_result"
    }
   ],
   "source": [
    "universal_encoder_sentences[:10]"
   ]
  },
  {
   "cell_type": "code",
   "execution_count": 16,
   "metadata": {},
   "outputs": [
    {
     "data": {
      "text/plain": [
       "3331"
      ]
     },
     "execution_count": 16,
     "metadata": {},
     "output_type": "execute_result"
    }
   ],
   "source": [
    "good_universal_encoder_sentences = universal_encoder_sentences.loc[universal_encoder_sentences['universal_encoder_meteor'] > universal_encoder_sentences['okapi_meteor']]\n",
    "good_universal_encoder_sentences.shape[0] "
   ]
  },
  {
   "cell_type": "code",
   "execution_count": 24,
   "metadata": {},
   "outputs": [
    {
     "name": "stdout",
     "output_type": "stream",
     "text": [
      "14 414\n"
     ]
    }
   ],
   "source": [
    "good_universal_encoder_sentences = universal_encoder_sentences.loc[(universal_encoder_sentences['universal_encoder_meteor'] > universal_encoder_sentences['okapi_meteor']) & (universal_encoder_sentences['okapi_meteor'] > 0.9)]\n",
    "good_okapi_sentences = universal_encoder_sentences.loc[(universal_encoder_sentences['universal_encoder_meteor'] < universal_encoder_sentences['okapi_meteor']) & (universal_encoder_sentences['okapi_meteor'] > 0.9)]\n",
    "\n",
    "print(good_universal_encoder_sentences.shape[0], good_okapi_sentences.shape[0]) "
   ]
  },
  {
   "cell_type": "code",
   "execution_count": 25,
   "metadata": {},
   "outputs": [
    {
     "name": "stdout",
     "output_type": "stream",
     "text": [
      "21 435\n"
     ]
    }
   ],
   "source": [
    "good_universal_encoder_sentences = universal_encoder_sentences.loc[(universal_encoder_sentences['universal_encoder_meteor'] > universal_encoder_sentences['okapi_meteor']) & (universal_encoder_sentences['okapi_meteor'] > 0.8) & (universal_encoder_sentences['okapi_meteor'] < 0.9)]\n",
    "good_okapi_sentences = universal_encoder_sentences.loc[(universal_encoder_sentences['universal_encoder_meteor'] < universal_encoder_sentences['okapi_meteor']) & (universal_encoder_sentences['okapi_meteor'] > 0.8) & (universal_encoder_sentences['okapi_meteor'] < 0.9)]\n",
    "\n",
    "\n",
    "print(good_universal_encoder_sentences.shape[0], good_okapi_sentences.shape[0]) "
   ]
  },
  {
   "cell_type": "code",
   "execution_count": 26,
   "metadata": {},
   "outputs": [
    {
     "name": "stdout",
     "output_type": "stream",
     "text": [
      "98 301\n"
     ]
    }
   ],
   "source": [
    "good_universal_encoder_sentences = universal_encoder_sentences.loc[(universal_encoder_sentences['universal_encoder_meteor'] > universal_encoder_sentences['okapi_meteor']) & (universal_encoder_sentences['okapi_meteor'] > 0.7) & (universal_encoder_sentences['okapi_meteor'] < 0.8)]\n",
    "\n",
    "good_okapi_sentences = universal_encoder_sentences.loc[(universal_encoder_sentences['universal_encoder_meteor'] < universal_encoder_sentences['okapi_meteor']) & (universal_encoder_sentences['okapi_meteor'] > 0.7) & (universal_encoder_sentences['okapi_meteor'] < 0.8)]\n",
    "\n",
    "print(good_universal_encoder_sentences.shape[0], good_okapi_sentences.shape[0]) "
   ]
  },
  {
   "cell_type": "code",
   "execution_count": 27,
   "metadata": {},
   "outputs": [
    {
     "name": "stdout",
     "output_type": "stream",
     "text": [
      "145 517\n"
     ]
    }
   ],
   "source": [
    "good_universal_encoder_sentences = universal_encoder_sentences.loc[(universal_encoder_sentences['universal_encoder_meteor'] > universal_encoder_sentences['okapi_meteor']) & (universal_encoder_sentences['okapi_meteor'] > 0.6) & (universal_encoder_sentences['okapi_meteor'] < 0.7)]\n",
    "good_okapi_sentences = universal_encoder_sentences.loc[(universal_encoder_sentences['universal_encoder_meteor'] < universal_encoder_sentences['okapi_meteor']) & (universal_encoder_sentences['okapi_meteor'] > 0.6) & (universal_encoder_sentences['okapi_meteor'] < 0.7)]\n",
    "\n",
    "print(good_universal_encoder_sentences.shape[0], good_okapi_sentences.shape[0]) "
   ]
  },
  {
   "cell_type": "code",
   "execution_count": 28,
   "metadata": {},
   "outputs": [
    {
     "name": "stdout",
     "output_type": "stream",
     "text": [
      "108 667\n"
     ]
    }
   ],
   "source": [
    "good_universal_encoder_sentences = universal_encoder_sentences.loc[(universal_encoder_sentences['universal_encoder_meteor'] > universal_encoder_sentences['okapi_meteor']) & (universal_encoder_sentences['okapi_meteor'] > 0.5) & (universal_encoder_sentences['okapi_meteor'] < 0.6)]\n",
    "good_okapi_sentences = universal_encoder_sentences.loc[(universal_encoder_sentences['universal_encoder_meteor'] < universal_encoder_sentences['okapi_meteor']) & (universal_encoder_sentences['okapi_meteor'] > 0.5) & (universal_encoder_sentences['okapi_meteor'] < 0.6)]\n",
    "\n",
    "print(good_universal_encoder_sentences.shape[0], good_okapi_sentences.shape[0]) "
   ]
  },
  {
   "cell_type": "code",
   "execution_count": 29,
   "metadata": {},
   "outputs": [
    {
     "name": "stdout",
     "output_type": "stream",
     "text": [
      "204 1035\n"
     ]
    }
   ],
   "source": [
    "good_universal_encoder_sentences = universal_encoder_sentences.loc[(universal_encoder_sentences['universal_encoder_meteor'] > universal_encoder_sentences['okapi_meteor']) & (universal_encoder_sentences['okapi_meteor'] > 0.4) & (universal_encoder_sentences['okapi_meteor'] < 0.5)]\n",
    "good_okapi_sentences = universal_encoder_sentences.loc[(universal_encoder_sentences['universal_encoder_meteor'] < universal_encoder_sentences['okapi_meteor']) & (universal_encoder_sentences['okapi_meteor'] > 0.4) & (universal_encoder_sentences['okapi_meteor'] < 0.5)]\n",
    "\n",
    "print(good_universal_encoder_sentences.shape[0], good_okapi_sentences.shape[0]) "
   ]
  },
  {
   "cell_type": "code",
   "execution_count": 30,
   "metadata": {},
   "outputs": [
    {
     "name": "stdout",
     "output_type": "stream",
     "text": [
      "284 1179\n"
     ]
    }
   ],
   "source": [
    "good_universal_encoder_sentences = universal_encoder_sentences.loc[(universal_encoder_sentences['universal_encoder_meteor'] > universal_encoder_sentences['okapi_meteor']) & (universal_encoder_sentences['okapi_meteor'] > 0.3) & (universal_encoder_sentences['okapi_meteor'] < 0.4)]\n",
    "good_okapi_sentences = universal_encoder_sentences.loc[(universal_encoder_sentences['universal_encoder_meteor'] < universal_encoder_sentences['okapi_meteor']) & (universal_encoder_sentences['okapi_meteor'] > 0.3) & (universal_encoder_sentences['okapi_meteor'] < 0.4)]\n",
    "\n",
    "print(good_universal_encoder_sentences.shape[0], good_okapi_sentences.shape[0]) "
   ]
  },
  {
   "cell_type": "code",
   "execution_count": 31,
   "metadata": {},
   "outputs": [
    {
     "name": "stdout",
     "output_type": "stream",
     "text": [
      "518 1369\n"
     ]
    }
   ],
   "source": [
    "good_universal_encoder_sentences = universal_encoder_sentences.loc[(universal_encoder_sentences['universal_encoder_meteor'] > universal_encoder_sentences['okapi_meteor']) & (universal_encoder_sentences['okapi_meteor'] > 0.2) & (universal_encoder_sentences['okapi_meteor'] < 0.3)]\n",
    "good_okapi_sentences = universal_encoder_sentences.loc[(universal_encoder_sentences['universal_encoder_meteor'] < universal_encoder_sentences['okapi_meteor']) & (universal_encoder_sentences['okapi_meteor'] > 0.2) & (universal_encoder_sentences['okapi_meteor'] < 0.3)]\n",
    "\n",
    "print(good_universal_encoder_sentences.shape[0], good_okapi_sentences.shape[0]) "
   ]
  },
  {
   "cell_type": "code",
   "execution_count": 32,
   "metadata": {},
   "outputs": [
    {
     "name": "stdout",
     "output_type": "stream",
     "text": [
      "944 1411\n"
     ]
    }
   ],
   "source": [
    "good_universal_encoder_sentences = universal_encoder_sentences.loc[(universal_encoder_sentences['universal_encoder_meteor'] > universal_encoder_sentences['okapi_meteor']) & (universal_encoder_sentences['okapi_meteor'] > 0.1) & (universal_encoder_sentences['okapi_meteor'] < 0.2)]\n",
    "good_okapi_sentences = universal_encoder_sentences.loc[(universal_encoder_sentences['universal_encoder_meteor'] < universal_encoder_sentences['okapi_meteor']) & (universal_encoder_sentences['okapi_meteor'] > 0.1) & (universal_encoder_sentences['okapi_meteor'] < 0.2)]\n",
    "\n",
    "print(good_universal_encoder_sentences.shape[0], good_okapi_sentences.shape[0]) "
   ]
  },
  {
   "cell_type": "code",
   "execution_count": 33,
   "metadata": {},
   "outputs": [
    {
     "name": "stdout",
     "output_type": "stream",
     "text": [
      "518 431\n"
     ]
    }
   ],
   "source": [
    "good_universal_encoder_sentences = universal_encoder_sentences.loc[(universal_encoder_sentences['universal_encoder_meteor'] > universal_encoder_sentences['okapi_meteor']) & (universal_encoder_sentences['okapi_meteor'] > 0) & (universal_encoder_sentences['okapi_meteor'] < 0.1)]\n",
    "good_okapi_sentences = universal_encoder_sentences.loc[(universal_encoder_sentences['universal_encoder_meteor'] < universal_encoder_sentences['okapi_meteor']) & (universal_encoder_sentences['okapi_meteor'] > 0) & (universal_encoder_sentences['okapi_meteor'] < 0.1)]\n",
    "\n",
    "print(good_universal_encoder_sentences.shape[0], good_okapi_sentences.shape[0]) "
   ]
  }
 ],
 "metadata": {
  "kernelspec": {
   "display_name": "Python [conda env:sentence_similarity_3.6]",
   "language": "python",
   "name": "conda-env-sentence_similarity_3.6-py"
  },
  "language_info": {
   "codemirror_mode": {
    "name": "ipython",
    "version": 3
   },
   "file_extension": ".py",
   "mimetype": "text/x-python",
   "name": "python",
   "nbconvert_exporter": "python",
   "pygments_lexer": "ipython3",
   "version": "3.6.8"
  }
 },
 "nbformat": 4,
 "nbformat_minor": 2
}
